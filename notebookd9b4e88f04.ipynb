{
 "cells": [
  {
   "cell_type": "code",
   "execution_count": 1,
   "id": "04fe2f22",
   "metadata": {
    "_cell_guid": "b1076dfc-b9ad-4769-8c92-a6c4dae69d19",
    "_uuid": "8f2839f25d086af736a60e9eeb907d3b93b6e0e5",
    "execution": {
     "iopub.execute_input": "2022-04-29T19:02:54.063050Z",
     "iopub.status.busy": "2022-04-29T19:02:54.062448Z",
     "iopub.status.idle": "2022-04-29T19:02:54.076325Z",
     "shell.execute_reply": "2022-04-29T19:02:54.075812Z"
    },
    "papermill": {
     "duration": 0.059695,
     "end_time": "2022-04-29T19:02:54.078525",
     "exception": false,
     "start_time": "2022-04-29T19:02:54.018830",
     "status": "completed"
    },
    "tags": []
   },
   "outputs": [
    {
     "name": "stdout",
     "output_type": "stream",
     "text": [
      "/kaggle/input/nlp-getting-started/sample_submission.csv\n",
      "/kaggle/input/nlp-getting-started/train.csv\n",
      "/kaggle/input/nlp-getting-started/test.csv\n"
     ]
    }
   ],
   "source": [
    "# This Python 3 environment comes with many helpful analytics libraries installed\n",
    "# It is defined by the kaggle/python Docker image: https://github.com/kaggle/docker-python\n",
    "# For example, here's several helpful packages to load\n",
    "\n",
    "import numpy as np # linear algebra\n",
    "import pandas as pd # data processing, CSV file I/O (e.g. pd.read_csv)\n",
    "\n",
    "# Input data files are available in the read-only \"../input/\" directory\n",
    "# For example, running this (by clicking run or pressing Shift+Enter) will list all files under the input directory\n",
    "\n",
    "import os\n",
    "for dirname, _, filenames in os.walk('/kaggle/input'):\n",
    "    for filename in filenames:\n",
    "        print(os.path.join(dirname, filename))\n",
    "\n",
    "# You can write up to 20GB to the current directory (/kaggle/working/) that gets preserved as output when you create a version using \"Save & Run All\" \n",
    "# You can also write temporary files to /kaggle/temp/, but they won't be saved outside of the current session"
   ]
  },
  {
   "cell_type": "code",
   "execution_count": 2,
   "id": "8bc129a9",
   "metadata": {
    "execution": {
     "iopub.execute_input": "2022-04-29T19:02:54.163917Z",
     "iopub.status.busy": "2022-04-29T19:02:54.163452Z",
     "iopub.status.idle": "2022-04-29T19:02:54.167512Z",
     "shell.execute_reply": "2022-04-29T19:02:54.166668Z"
    },
    "papermill": {
     "duration": 0.048191,
     "end_time": "2022-04-29T19:02:54.169431",
     "exception": false,
     "start_time": "2022-04-29T19:02:54.121240",
     "status": "completed"
    },
    "tags": []
   },
   "outputs": [],
   "source": [
    "import pandas as pd\n"
   ]
  },
  {
   "cell_type": "code",
   "execution_count": 3,
   "id": "92bba53e",
   "metadata": {
    "execution": {
     "iopub.execute_input": "2022-04-29T19:02:54.252459Z",
     "iopub.status.busy": "2022-04-29T19:02:54.251983Z",
     "iopub.status.idle": "2022-04-29T19:02:54.300484Z",
     "shell.execute_reply": "2022-04-29T19:02:54.299903Z"
    },
    "papermill": {
     "duration": 0.092703,
     "end_time": "2022-04-29T19:02:54.302780",
     "exception": false,
     "start_time": "2022-04-29T19:02:54.210077",
     "status": "completed"
    },
    "tags": []
   },
   "outputs": [],
   "source": [
    "df = pd.read_csv(\"/kaggle/input/nlp-getting-started/train.csv\")"
   ]
  },
  {
   "cell_type": "code",
   "execution_count": 4,
   "id": "11e19bc5",
   "metadata": {
    "execution": {
     "iopub.execute_input": "2022-04-29T19:02:54.378167Z",
     "iopub.status.busy": "2022-04-29T19:02:54.377754Z",
     "iopub.status.idle": "2022-04-29T19:02:54.395083Z",
     "shell.execute_reply": "2022-04-29T19:02:54.394600Z"
    },
    "papermill": {
     "duration": 0.053211,
     "end_time": "2022-04-29T19:02:54.397166",
     "exception": false,
     "start_time": "2022-04-29T19:02:54.343955",
     "status": "completed"
    },
    "tags": []
   },
   "outputs": [
    {
     "data": {
      "text/html": [
       "<div>\n",
       "<style scoped>\n",
       "    .dataframe tbody tr th:only-of-type {\n",
       "        vertical-align: middle;\n",
       "    }\n",
       "\n",
       "    .dataframe tbody tr th {\n",
       "        vertical-align: top;\n",
       "    }\n",
       "\n",
       "    .dataframe thead th {\n",
       "        text-align: right;\n",
       "    }\n",
       "</style>\n",
       "<table border=\"1\" class=\"dataframe\">\n",
       "  <thead>\n",
       "    <tr style=\"text-align: right;\">\n",
       "      <th></th>\n",
       "      <th>id</th>\n",
       "      <th>keyword</th>\n",
       "      <th>location</th>\n",
       "      <th>text</th>\n",
       "      <th>target</th>\n",
       "    </tr>\n",
       "  </thead>\n",
       "  <tbody>\n",
       "    <tr>\n",
       "      <th>0</th>\n",
       "      <td>1</td>\n",
       "      <td>NaN</td>\n",
       "      <td>NaN</td>\n",
       "      <td>Our Deeds are the Reason of this #earthquake M...</td>\n",
       "      <td>1</td>\n",
       "    </tr>\n",
       "    <tr>\n",
       "      <th>1</th>\n",
       "      <td>4</td>\n",
       "      <td>NaN</td>\n",
       "      <td>NaN</td>\n",
       "      <td>Forest fire near La Ronge Sask. Canada</td>\n",
       "      <td>1</td>\n",
       "    </tr>\n",
       "    <tr>\n",
       "      <th>2</th>\n",
       "      <td>5</td>\n",
       "      <td>NaN</td>\n",
       "      <td>NaN</td>\n",
       "      <td>All residents asked to 'shelter in place' are ...</td>\n",
       "      <td>1</td>\n",
       "    </tr>\n",
       "    <tr>\n",
       "      <th>3</th>\n",
       "      <td>6</td>\n",
       "      <td>NaN</td>\n",
       "      <td>NaN</td>\n",
       "      <td>13,000 people receive #wildfires evacuation or...</td>\n",
       "      <td>1</td>\n",
       "    </tr>\n",
       "    <tr>\n",
       "      <th>4</th>\n",
       "      <td>7</td>\n",
       "      <td>NaN</td>\n",
       "      <td>NaN</td>\n",
       "      <td>Just got sent this photo from Ruby #Alaska as ...</td>\n",
       "      <td>1</td>\n",
       "    </tr>\n",
       "    <tr>\n",
       "      <th>5</th>\n",
       "      <td>8</td>\n",
       "      <td>NaN</td>\n",
       "      <td>NaN</td>\n",
       "      <td>#RockyFire Update =&gt; California Hwy. 20 closed...</td>\n",
       "      <td>1</td>\n",
       "    </tr>\n",
       "    <tr>\n",
       "      <th>6</th>\n",
       "      <td>10</td>\n",
       "      <td>NaN</td>\n",
       "      <td>NaN</td>\n",
       "      <td>#flood #disaster Heavy rain causes flash flood...</td>\n",
       "      <td>1</td>\n",
       "    </tr>\n",
       "    <tr>\n",
       "      <th>7</th>\n",
       "      <td>13</td>\n",
       "      <td>NaN</td>\n",
       "      <td>NaN</td>\n",
       "      <td>I'm on top of the hill and I can see a fire in...</td>\n",
       "      <td>1</td>\n",
       "    </tr>\n",
       "    <tr>\n",
       "      <th>8</th>\n",
       "      <td>14</td>\n",
       "      <td>NaN</td>\n",
       "      <td>NaN</td>\n",
       "      <td>There's an emergency evacuation happening now ...</td>\n",
       "      <td>1</td>\n",
       "    </tr>\n",
       "    <tr>\n",
       "      <th>9</th>\n",
       "      <td>15</td>\n",
       "      <td>NaN</td>\n",
       "      <td>NaN</td>\n",
       "      <td>I'm afraid that the tornado is coming to our a...</td>\n",
       "      <td>1</td>\n",
       "    </tr>\n",
       "    <tr>\n",
       "      <th>10</th>\n",
       "      <td>16</td>\n",
       "      <td>NaN</td>\n",
       "      <td>NaN</td>\n",
       "      <td>Three people died from the heat wave so far</td>\n",
       "      <td>1</td>\n",
       "    </tr>\n",
       "    <tr>\n",
       "      <th>11</th>\n",
       "      <td>17</td>\n",
       "      <td>NaN</td>\n",
       "      <td>NaN</td>\n",
       "      <td>Haha South Tampa is getting flooded hah- WAIT ...</td>\n",
       "      <td>1</td>\n",
       "    </tr>\n",
       "    <tr>\n",
       "      <th>12</th>\n",
       "      <td>18</td>\n",
       "      <td>NaN</td>\n",
       "      <td>NaN</td>\n",
       "      <td>#raining #flooding #Florida #TampaBay #Tampa 1...</td>\n",
       "      <td>1</td>\n",
       "    </tr>\n",
       "    <tr>\n",
       "      <th>13</th>\n",
       "      <td>19</td>\n",
       "      <td>NaN</td>\n",
       "      <td>NaN</td>\n",
       "      <td>#Flood in Bago Myanmar #We arrived Bago</td>\n",
       "      <td>1</td>\n",
       "    </tr>\n",
       "    <tr>\n",
       "      <th>14</th>\n",
       "      <td>20</td>\n",
       "      <td>NaN</td>\n",
       "      <td>NaN</td>\n",
       "      <td>Damage to school bus on 80 in multi car crash ...</td>\n",
       "      <td>1</td>\n",
       "    </tr>\n",
       "    <tr>\n",
       "      <th>15</th>\n",
       "      <td>23</td>\n",
       "      <td>NaN</td>\n",
       "      <td>NaN</td>\n",
       "      <td>What's up man?</td>\n",
       "      <td>0</td>\n",
       "    </tr>\n",
       "    <tr>\n",
       "      <th>16</th>\n",
       "      <td>24</td>\n",
       "      <td>NaN</td>\n",
       "      <td>NaN</td>\n",
       "      <td>I love fruits</td>\n",
       "      <td>0</td>\n",
       "    </tr>\n",
       "    <tr>\n",
       "      <th>17</th>\n",
       "      <td>25</td>\n",
       "      <td>NaN</td>\n",
       "      <td>NaN</td>\n",
       "      <td>Summer is lovely</td>\n",
       "      <td>0</td>\n",
       "    </tr>\n",
       "    <tr>\n",
       "      <th>18</th>\n",
       "      <td>26</td>\n",
       "      <td>NaN</td>\n",
       "      <td>NaN</td>\n",
       "      <td>My car is so fast</td>\n",
       "      <td>0</td>\n",
       "    </tr>\n",
       "    <tr>\n",
       "      <th>19</th>\n",
       "      <td>28</td>\n",
       "      <td>NaN</td>\n",
       "      <td>NaN</td>\n",
       "      <td>What a goooooooaaaaaal!!!!!!</td>\n",
       "      <td>0</td>\n",
       "    </tr>\n",
       "  </tbody>\n",
       "</table>\n",
       "</div>"
      ],
      "text/plain": [
       "    id keyword location                                               text  \\\n",
       "0    1     NaN      NaN  Our Deeds are the Reason of this #earthquake M...   \n",
       "1    4     NaN      NaN             Forest fire near La Ronge Sask. Canada   \n",
       "2    5     NaN      NaN  All residents asked to 'shelter in place' are ...   \n",
       "3    6     NaN      NaN  13,000 people receive #wildfires evacuation or...   \n",
       "4    7     NaN      NaN  Just got sent this photo from Ruby #Alaska as ...   \n",
       "5    8     NaN      NaN  #RockyFire Update => California Hwy. 20 closed...   \n",
       "6   10     NaN      NaN  #flood #disaster Heavy rain causes flash flood...   \n",
       "7   13     NaN      NaN  I'm on top of the hill and I can see a fire in...   \n",
       "8   14     NaN      NaN  There's an emergency evacuation happening now ...   \n",
       "9   15     NaN      NaN  I'm afraid that the tornado is coming to our a...   \n",
       "10  16     NaN      NaN        Three people died from the heat wave so far   \n",
       "11  17     NaN      NaN  Haha South Tampa is getting flooded hah- WAIT ...   \n",
       "12  18     NaN      NaN  #raining #flooding #Florida #TampaBay #Tampa 1...   \n",
       "13  19     NaN      NaN            #Flood in Bago Myanmar #We arrived Bago   \n",
       "14  20     NaN      NaN  Damage to school bus on 80 in multi car crash ...   \n",
       "15  23     NaN      NaN                                     What's up man?   \n",
       "16  24     NaN      NaN                                      I love fruits   \n",
       "17  25     NaN      NaN                                   Summer is lovely   \n",
       "18  26     NaN      NaN                                  My car is so fast   \n",
       "19  28     NaN      NaN                       What a goooooooaaaaaal!!!!!!   \n",
       "\n",
       "    target  \n",
       "0        1  \n",
       "1        1  \n",
       "2        1  \n",
       "3        1  \n",
       "4        1  \n",
       "5        1  \n",
       "6        1  \n",
       "7        1  \n",
       "8        1  \n",
       "9        1  \n",
       "10       1  \n",
       "11       1  \n",
       "12       1  \n",
       "13       1  \n",
       "14       1  \n",
       "15       0  \n",
       "16       0  \n",
       "17       0  \n",
       "18       0  \n",
       "19       0  "
      ]
     },
     "execution_count": 4,
     "metadata": {},
     "output_type": "execute_result"
    }
   ],
   "source": [
    "df.head(20)"
   ]
  },
  {
   "cell_type": "code",
   "execution_count": 5,
   "id": "f5d7e233",
   "metadata": {
    "execution": {
     "iopub.execute_input": "2022-04-29T19:02:54.482388Z",
     "iopub.status.busy": "2022-04-29T19:02:54.481930Z",
     "iopub.status.idle": "2022-04-29T19:02:54.501775Z",
     "shell.execute_reply": "2022-04-29T19:02:54.501187Z"
    },
    "papermill": {
     "duration": 0.065248,
     "end_time": "2022-04-29T19:02:54.504184",
     "exception": false,
     "start_time": "2022-04-29T19:02:54.438936",
     "status": "completed"
    },
    "tags": []
   },
   "outputs": [],
   "source": [
    "df1 = pd.read_csv(\"/kaggle/input/nlp-getting-started/test.csv\")"
   ]
  },
  {
   "cell_type": "code",
   "execution_count": 6,
   "id": "2453aab0",
   "metadata": {
    "execution": {
     "iopub.execute_input": "2022-04-29T19:02:54.590978Z",
     "iopub.status.busy": "2022-04-29T19:02:54.590494Z",
     "iopub.status.idle": "2022-04-29T19:02:54.602410Z",
     "shell.execute_reply": "2022-04-29T19:02:54.601903Z"
    },
    "papermill": {
     "duration": 0.058041,
     "end_time": "2022-04-29T19:02:54.604392",
     "exception": false,
     "start_time": "2022-04-29T19:02:54.546351",
     "status": "completed"
    },
    "tags": []
   },
   "outputs": [],
   "source": [
    "df[\"text\"] = df[\"text\"].apply(lambda x: x.lower())\n",
    "df1[\"text\"] = df1[\"text\"].apply(lambda x: x.lower())"
   ]
  },
  {
   "cell_type": "code",
   "execution_count": 7,
   "id": "8774b8b9",
   "metadata": {
    "execution": {
     "iopub.execute_input": "2022-04-29T19:02:54.693388Z",
     "iopub.status.busy": "2022-04-29T19:02:54.693125Z",
     "iopub.status.idle": "2022-04-29T19:02:54.696005Z",
     "shell.execute_reply": "2022-04-29T19:02:54.695484Z"
    },
    "papermill": {
     "duration": 0.048202,
     "end_time": "2022-04-29T19:02:54.698152",
     "exception": false,
     "start_time": "2022-04-29T19:02:54.649950",
     "status": "completed"
    },
    "tags": []
   },
   "outputs": [],
   "source": [
    "import re"
   ]
  },
  {
   "cell_type": "code",
   "execution_count": 8,
   "id": "727e71c4",
   "metadata": {
    "execution": {
     "iopub.execute_input": "2022-04-29T19:02:54.783233Z",
     "iopub.status.busy": "2022-04-29T19:02:54.782770Z",
     "iopub.status.idle": "2022-04-29T19:02:54.865291Z",
     "shell.execute_reply": "2022-04-29T19:02:54.864252Z"
    },
    "papermill": {
     "duration": 0.127873,
     "end_time": "2022-04-29T19:02:54.867945",
     "exception": false,
     "start_time": "2022-04-29T19:02:54.740072",
     "status": "completed"
    },
    "tags": []
   },
   "outputs": [],
   "source": [
    "def remove_html(text):\n",
    "    html = re.compile(r\"<.*?>|&([a-z0-9]+|#[0-9]{1,6}|#x[0-9a-f]{1,6});\")\n",
    "    return re.sub(html, \"\", text)\n",
    "\n",
    "df[\"text\"] = df[\"text\"].apply(lambda x: remove_html(x))\n",
    "df1[\"text\"] = df1[\"text\"].apply(lambda x: remove_html(x))"
   ]
  },
  {
   "cell_type": "code",
   "execution_count": 9,
   "id": "68a2a68a",
   "metadata": {
    "execution": {
     "iopub.execute_input": "2022-04-29T19:02:54.956722Z",
     "iopub.status.busy": "2022-04-29T19:02:54.956313Z",
     "iopub.status.idle": "2022-04-29T19:02:54.959026Z",
     "shell.execute_reply": "2022-04-29T19:02:54.958594Z"
    },
    "papermill": {
     "duration": 0.04777,
     "end_time": "2022-04-29T19:02:54.960707",
     "exception": false,
     "start_time": "2022-04-29T19:02:54.912937",
     "status": "completed"
    },
    "tags": []
   },
   "outputs": [],
   "source": [
    "import string"
   ]
  },
  {
   "cell_type": "code",
   "execution_count": 10,
   "id": "0f83adb2",
   "metadata": {
    "execution": {
     "iopub.execute_input": "2022-04-29T19:02:55.046861Z",
     "iopub.status.busy": "2022-04-29T19:02:55.046276Z",
     "iopub.status.idle": "2022-04-29T19:02:55.105156Z",
     "shell.execute_reply": "2022-04-29T19:02:55.104482Z"
    },
    "papermill": {
     "duration": 0.104619,
     "end_time": "2022-04-29T19:02:55.107442",
     "exception": false,
     "start_time": "2022-04-29T19:02:55.002823",
     "status": "completed"
    },
    "tags": []
   },
   "outputs": [],
   "source": [
    "def remove_punct(text):\n",
    "    return text.translate(str.maketrans('', '', string.punctuation))\n",
    "\n",
    "\n",
    "df[\"text\"] = df[\"text\"].apply(lambda x: remove_punct(x))\n",
    "df1[\"text\"] = df1[\"text\"].apply(lambda x: remove_punct(x))"
   ]
  },
  {
   "cell_type": "code",
   "execution_count": 11,
   "id": "9305eca4",
   "metadata": {
    "execution": {
     "iopub.execute_input": "2022-04-29T19:02:55.196731Z",
     "iopub.status.busy": "2022-04-29T19:02:55.196220Z",
     "iopub.status.idle": "2022-04-29T19:02:55.205928Z",
     "shell.execute_reply": "2022-04-29T19:02:55.205395Z"
    },
    "papermill": {
     "duration": 0.057665,
     "end_time": "2022-04-29T19:02:55.207698",
     "exception": false,
     "start_time": "2022-04-29T19:02:55.150033",
     "status": "completed"
    },
    "tags": []
   },
   "outputs": [],
   "source": [
    "df = df.drop('keyword', axis=1)\n",
    "df1 = df1.drop('keyword', axis=1)"
   ]
  },
  {
   "cell_type": "code",
   "execution_count": 12,
   "id": "a18f9c48",
   "metadata": {
    "execution": {
     "iopub.execute_input": "2022-04-29T19:02:55.295787Z",
     "iopub.status.busy": "2022-04-29T19:02:55.295346Z",
     "iopub.status.idle": "2022-04-29T19:02:55.300154Z",
     "shell.execute_reply": "2022-04-29T19:02:55.299742Z"
    },
    "papermill": {
     "duration": 0.048617,
     "end_time": "2022-04-29T19:02:55.301746",
     "exception": false,
     "start_time": "2022-04-29T19:02:55.253129",
     "status": "completed"
    },
    "tags": []
   },
   "outputs": [],
   "source": [
    "df = df.drop('location', axis=1)\n",
    "df1 = df1.drop('location', axis=1)"
   ]
  },
  {
   "cell_type": "code",
   "execution_count": 13,
   "id": "cd3b228e",
   "metadata": {
    "execution": {
     "iopub.execute_input": "2022-04-29T19:02:55.385741Z",
     "iopub.status.busy": "2022-04-29T19:02:55.385450Z",
     "iopub.status.idle": "2022-04-29T19:02:57.087188Z",
     "shell.execute_reply": "2022-04-29T19:02:57.086712Z"
    },
    "papermill": {
     "duration": 1.746236,
     "end_time": "2022-04-29T19:02:57.089343",
     "exception": false,
     "start_time": "2022-04-29T19:02:55.343107",
     "status": "completed"
    },
    "tags": []
   },
   "outputs": [],
   "source": [
    "import nltk\n",
    "from nltk import TweetTokenizer\n",
    "\n",
    "tokenizer = TweetTokenizer()\n",
    "\n",
    "df['tokens'] = [tokenizer.tokenize(item) for item in df.text]\n",
    "df1['tokens'] = [tokenizer.tokenize(item) for item in df1.text]"
   ]
  },
  {
   "cell_type": "code",
   "execution_count": 14,
   "id": "a6f67c1a",
   "metadata": {
    "execution": {
     "iopub.execute_input": "2022-04-29T19:02:57.174835Z",
     "iopub.status.busy": "2022-04-29T19:02:57.174435Z",
     "iopub.status.idle": "2022-04-29T19:02:59.462046Z",
     "shell.execute_reply": "2022-04-29T19:02:59.461569Z"
    },
    "papermill": {
     "duration": 2.331304,
     "end_time": "2022-04-29T19:02:59.463879",
     "exception": false,
     "start_time": "2022-04-29T19:02:57.132575",
     "status": "completed"
    },
    "tags": []
   },
   "outputs": [],
   "source": [
    "from nltk.stem import WordNetLemmatizer\n",
    "\n",
    "lemmatizer = WordNetLemmatizer()\n",
    "\n",
    "def lemmatize_item(item):\n",
    "    new_item = []\n",
    "    for x in item:\n",
    "        x = lemmatizer.lemmatize(x)\n",
    "        new_item.append(x)\n",
    "    return \" \".join(new_item)\n",
    "\n",
    "df['tokens'] = [lemmatize_item(item) for item in df.tokens]\n",
    "df1['tokens'] = [lemmatize_item(item) for item in df1.tokens]"
   ]
  },
  {
   "cell_type": "code",
   "execution_count": 15,
   "id": "b7b11e78",
   "metadata": {
    "execution": {
     "iopub.execute_input": "2022-04-29T19:02:59.519307Z",
     "iopub.status.busy": "2022-04-29T19:02:59.518937Z",
     "iopub.status.idle": "2022-04-29T19:02:59.732490Z",
     "shell.execute_reply": "2022-04-29T19:02:59.732014Z"
    },
    "papermill": {
     "duration": 0.243324,
     "end_time": "2022-04-29T19:02:59.734620",
     "exception": false,
     "start_time": "2022-04-29T19:02:59.491296",
     "status": "completed"
    },
    "tags": []
   },
   "outputs": [],
   "source": [
    "from sklearn.feature_extraction.text import CountVectorizer\n",
    "\n",
    "vectorizer = CountVectorizer()\n",
    "\n",
    "\n",
    "X = vectorizer.fit_transform(df.text).toarray()\n",
    "y = df['target']"
   ]
  },
  {
   "cell_type": "code",
   "execution_count": 16,
   "id": "e144f5c5",
   "metadata": {
    "execution": {
     "iopub.execute_input": "2022-04-29T19:02:59.790819Z",
     "iopub.status.busy": "2022-04-29T19:02:59.790457Z",
     "iopub.status.idle": "2022-04-29T19:03:00.080558Z",
     "shell.execute_reply": "2022-04-29T19:03:00.080050Z"
    },
    "papermill": {
     "duration": 0.32074,
     "end_time": "2022-04-29T19:03:00.082857",
     "exception": false,
     "start_time": "2022-04-29T19:02:59.762117",
     "status": "completed"
    },
    "tags": []
   },
   "outputs": [],
   "source": [
    "from sklearn.model_selection import train_test_split\n",
    "X_train, X_test, y_train, y_test = train_test_split(X, y, test_size = 0.3, random_state = 0)"
   ]
  },
  {
   "cell_type": "code",
   "execution_count": 17,
   "id": "035a86e4",
   "metadata": {
    "execution": {
     "iopub.execute_input": "2022-04-29T19:03:00.167500Z",
     "iopub.status.busy": "2022-04-29T19:03:00.167207Z",
     "iopub.status.idle": "2022-04-29T19:03:00.173573Z",
     "shell.execute_reply": "2022-04-29T19:03:00.172753Z"
    },
    "papermill": {
     "duration": 0.050855,
     "end_time": "2022-04-29T19:03:00.175880",
     "exception": false,
     "start_time": "2022-04-29T19:03:00.125025",
     "status": "completed"
    },
    "tags": []
   },
   "outputs": [],
   "source": [
    "from sklearn.naive_bayes import MultinomialNB"
   ]
  },
  {
   "cell_type": "code",
   "execution_count": 18,
   "id": "61570228",
   "metadata": {
    "execution": {
     "iopub.execute_input": "2022-04-29T19:03:00.262080Z",
     "iopub.status.busy": "2022-04-29T19:03:00.261826Z",
     "iopub.status.idle": "2022-04-29T19:03:01.077443Z",
     "shell.execute_reply": "2022-04-29T19:03:01.076768Z"
    },
    "papermill": {
     "duration": 0.861083,
     "end_time": "2022-04-29T19:03:01.079323",
     "exception": false,
     "start_time": "2022-04-29T19:03:00.218240",
     "status": "completed"
    },
    "tags": []
   },
   "outputs": [
    {
     "data": {
      "text/plain": [
       "MultinomialNB()"
      ]
     },
     "execution_count": 18,
     "metadata": {},
     "output_type": "execute_result"
    }
   ],
   "source": [
    "mb = MultinomialNB()\n",
    "mb.fit(X_train,y_train)"
   ]
  },
  {
   "cell_type": "code",
   "execution_count": 19,
   "id": "67eea553",
   "metadata": {
    "execution": {
     "iopub.execute_input": "2022-04-29T19:03:01.165767Z",
     "iopub.status.busy": "2022-04-29T19:03:01.165490Z",
     "iopub.status.idle": "2022-04-29T19:03:01.954161Z",
     "shell.execute_reply": "2022-04-29T19:03:01.953160Z"
    },
    "papermill": {
     "duration": 0.834222,
     "end_time": "2022-04-29T19:03:01.956273",
     "exception": false,
     "start_time": "2022-04-29T19:03:01.122051",
     "status": "completed"
    },
    "tags": []
   },
   "outputs": [
    {
     "data": {
      "text/plain": [
       "MultinomialNB()"
      ]
     },
     "execution_count": 19,
     "metadata": {},
     "output_type": "execute_result"
    }
   ],
   "source": [
    "mb = MultinomialNB()\n",
    "mb.fit(X_train,y_train)"
   ]
  },
  {
   "cell_type": "code",
   "execution_count": 20,
   "id": "5ab02cb8",
   "metadata": {
    "execution": {
     "iopub.execute_input": "2022-04-29T19:03:02.043897Z",
     "iopub.status.busy": "2022-04-29T19:03:02.043645Z",
     "iopub.status.idle": "2022-04-29T19:03:02.143666Z",
     "shell.execute_reply": "2022-04-29T19:03:02.142959Z"
    },
    "papermill": {
     "duration": 0.146039,
     "end_time": "2022-04-29T19:03:02.145990",
     "exception": false,
     "start_time": "2022-04-29T19:03:01.999951",
     "status": "completed"
    },
    "tags": []
   },
   "outputs": [],
   "source": [
    "y_pred = mb.predict(X_test)"
   ]
  },
  {
   "cell_type": "code",
   "execution_count": 21,
   "id": "ba392cf4",
   "metadata": {
    "execution": {
     "iopub.execute_input": "2022-04-29T19:03:02.246745Z",
     "iopub.status.busy": "2022-04-29T19:03:02.246448Z",
     "iopub.status.idle": "2022-04-29T19:03:02.250141Z",
     "shell.execute_reply": "2022-04-29T19:03:02.249586Z"
    },
    "papermill": {
     "duration": 0.05782,
     "end_time": "2022-04-29T19:03:02.253530",
     "exception": false,
     "start_time": "2022-04-29T19:03:02.195710",
     "status": "completed"
    },
    "tags": []
   },
   "outputs": [],
   "source": [
    "from sklearn.metrics import accuracy_score, classification_report, confusion_matrix"
   ]
  },
  {
   "cell_type": "code",
   "execution_count": 22,
   "id": "27de3850",
   "metadata": {
    "execution": {
     "iopub.execute_input": "2022-04-29T19:03:02.340926Z",
     "iopub.status.busy": "2022-04-29T19:03:02.340668Z",
     "iopub.status.idle": "2022-04-29T19:03:02.345798Z",
     "shell.execute_reply": "2022-04-29T19:03:02.345119Z"
    },
    "papermill": {
     "duration": 0.050723,
     "end_time": "2022-04-29T19:03:02.347672",
     "exception": false,
     "start_time": "2022-04-29T19:03:02.296949",
     "status": "completed"
    },
    "tags": []
   },
   "outputs": [
    {
     "name": "stdout",
     "output_type": "stream",
     "text": [
      "The accuracy of the model is : 0.8051663747810858\n"
     ]
    }
   ],
   "source": [
    "acc = accuracy_score(y_test,y_pred)\n",
    "print(\"The accuracy of the model is :\",acc)"
   ]
  },
  {
   "cell_type": "code",
   "execution_count": 23,
   "id": "97cbe1b1",
   "metadata": {
    "execution": {
     "iopub.execute_input": "2022-04-29T19:03:02.405195Z",
     "iopub.status.busy": "2022-04-29T19:03:02.404906Z",
     "iopub.status.idle": "2022-04-29T19:03:02.413666Z",
     "shell.execute_reply": "2022-04-29T19:03:02.412937Z"
    },
    "papermill": {
     "duration": 0.039709,
     "end_time": "2022-04-29T19:03:02.415208",
     "exception": false,
     "start_time": "2022-04-29T19:03:02.375499",
     "status": "completed"
    },
    "tags": []
   },
   "outputs": [
    {
     "data": {
      "text/plain": [
       "array([[1169,  169],\n",
       "       [ 276,  670]])"
      ]
     },
     "execution_count": 23,
     "metadata": {},
     "output_type": "execute_result"
    }
   ],
   "source": [
    "cf = confusion_matrix(y_test,y_pred)\n",
    "cf"
   ]
  },
  {
   "cell_type": "code",
   "execution_count": 24,
   "id": "02f7b805",
   "metadata": {
    "execution": {
     "iopub.execute_input": "2022-04-29T19:03:02.471340Z",
     "iopub.status.busy": "2022-04-29T19:03:02.471096Z",
     "iopub.status.idle": "2022-04-29T19:03:02.480663Z",
     "shell.execute_reply": "2022-04-29T19:03:02.479670Z"
    },
    "papermill": {
     "duration": 0.03957,
     "end_time": "2022-04-29T19:03:02.482638",
     "exception": false,
     "start_time": "2022-04-29T19:03:02.443068",
     "status": "completed"
    },
    "tags": []
   },
   "outputs": [
    {
     "name": "stdout",
     "output_type": "stream",
     "text": [
      "              precision    recall  f1-score   support\n",
      "\n",
      "           0       0.81      0.87      0.84      1338\n",
      "           1       0.80      0.71      0.75       946\n",
      "\n",
      "    accuracy                           0.81      2284\n",
      "   macro avg       0.80      0.79      0.80      2284\n",
      "weighted avg       0.80      0.81      0.80      2284\n",
      "\n"
     ]
    }
   ],
   "source": [
    "print(classification_report(y_test,y_pred))"
   ]
  },
  {
   "cell_type": "code",
   "execution_count": 25,
   "id": "146b9abe",
   "metadata": {
    "execution": {
     "iopub.execute_input": "2022-04-29T19:03:02.542400Z",
     "iopub.status.busy": "2022-04-29T19:03:02.541705Z",
     "iopub.status.idle": "2022-04-29T19:03:02.614227Z",
     "shell.execute_reply": "2022-04-29T19:03:02.613602Z"
    },
    "papermill": {
     "duration": 0.104046,
     "end_time": "2022-04-29T19:03:02.616190",
     "exception": false,
     "start_time": "2022-04-29T19:03:02.512144",
     "status": "completed"
    },
    "tags": []
   },
   "outputs": [],
   "source": [
    "test = vectorizer.transform(df1.text).toarray()"
   ]
  },
  {
   "cell_type": "code",
   "execution_count": 26,
   "id": "4fbcc314",
   "metadata": {
    "execution": {
     "iopub.execute_input": "2022-04-29T19:03:02.674953Z",
     "iopub.status.busy": "2022-04-29T19:03:02.674661Z",
     "iopub.status.idle": "2022-04-29T19:03:02.848134Z",
     "shell.execute_reply": "2022-04-29T19:03:02.847250Z"
    },
    "papermill": {
     "duration": 0.205585,
     "end_time": "2022-04-29T19:03:02.850208",
     "exception": false,
     "start_time": "2022-04-29T19:03:02.644623",
     "status": "completed"
    },
    "tags": []
   },
   "outputs": [],
   "source": [
    "pred_1 = mb.predict(test)"
   ]
  },
  {
   "cell_type": "code",
   "execution_count": 27,
   "id": "c1c0f04e",
   "metadata": {
    "execution": {
     "iopub.execute_input": "2022-04-29T19:03:02.921223Z",
     "iopub.status.busy": "2022-04-29T19:03:02.920310Z",
     "iopub.status.idle": "2022-04-29T19:03:02.933469Z",
     "shell.execute_reply": "2022-04-29T19:03:02.932907Z"
    },
    "papermill": {
     "duration": 0.05079,
     "end_time": "2022-04-29T19:03:02.935709",
     "exception": false,
     "start_time": "2022-04-29T19:03:02.884919",
     "status": "completed"
    },
    "tags": []
   },
   "outputs": [],
   "source": [
    "sub = pd.read_csv(\"/kaggle/input/nlp-getting-started/sample_submission.csv\")"
   ]
  },
  {
   "cell_type": "code",
   "execution_count": 28,
   "id": "327cf307",
   "metadata": {
    "execution": {
     "iopub.execute_input": "2022-04-29T19:03:03.027711Z",
     "iopub.status.busy": "2022-04-29T19:03:03.027429Z",
     "iopub.status.idle": "2022-04-29T19:03:03.035826Z",
     "shell.execute_reply": "2022-04-29T19:03:03.035302Z"
    },
    "papermill": {
     "duration": 0.054116,
     "end_time": "2022-04-29T19:03:03.037295",
     "exception": false,
     "start_time": "2022-04-29T19:03:02.983179",
     "status": "completed"
    },
    "tags": []
   },
   "outputs": [
    {
     "data": {
      "text/html": [
       "<div>\n",
       "<style scoped>\n",
       "    .dataframe tbody tr th:only-of-type {\n",
       "        vertical-align: middle;\n",
       "    }\n",
       "\n",
       "    .dataframe tbody tr th {\n",
       "        vertical-align: top;\n",
       "    }\n",
       "\n",
       "    .dataframe thead th {\n",
       "        text-align: right;\n",
       "    }\n",
       "</style>\n",
       "<table border=\"1\" class=\"dataframe\">\n",
       "  <thead>\n",
       "    <tr style=\"text-align: right;\">\n",
       "      <th></th>\n",
       "      <th>id</th>\n",
       "      <th>target</th>\n",
       "    </tr>\n",
       "  </thead>\n",
       "  <tbody>\n",
       "    <tr>\n",
       "      <th>0</th>\n",
       "      <td>0</td>\n",
       "      <td>0</td>\n",
       "    </tr>\n",
       "    <tr>\n",
       "      <th>1</th>\n",
       "      <td>2</td>\n",
       "      <td>0</td>\n",
       "    </tr>\n",
       "    <tr>\n",
       "      <th>2</th>\n",
       "      <td>3</td>\n",
       "      <td>0</td>\n",
       "    </tr>\n",
       "    <tr>\n",
       "      <th>3</th>\n",
       "      <td>9</td>\n",
       "      <td>0</td>\n",
       "    </tr>\n",
       "    <tr>\n",
       "      <th>4</th>\n",
       "      <td>11</td>\n",
       "      <td>0</td>\n",
       "    </tr>\n",
       "  </tbody>\n",
       "</table>\n",
       "</div>"
      ],
      "text/plain": [
       "   id  target\n",
       "0   0       0\n",
       "1   2       0\n",
       "2   3       0\n",
       "3   9       0\n",
       "4  11       0"
      ]
     },
     "execution_count": 28,
     "metadata": {},
     "output_type": "execute_result"
    }
   ],
   "source": [
    "sub.head()"
   ]
  },
  {
   "cell_type": "code",
   "execution_count": 29,
   "id": "06ccb45e",
   "metadata": {
    "execution": {
     "iopub.execute_input": "2022-04-29T19:03:03.111057Z",
     "iopub.status.busy": "2022-04-29T19:03:03.110756Z",
     "iopub.status.idle": "2022-04-29T19:03:03.124409Z",
     "shell.execute_reply": "2022-04-29T19:03:03.123476Z"
    },
    "papermill": {
     "duration": 0.060453,
     "end_time": "2022-04-29T19:03:03.126188",
     "exception": false,
     "start_time": "2022-04-29T19:03:03.065735",
     "status": "completed"
    },
    "tags": []
   },
   "outputs": [],
   "source": [
    "sub['target'] = pred_1\n",
    "sub.to_csv('submission.csv',index=False)"
   ]
  },
  {
   "cell_type": "code",
   "execution_count": 30,
   "id": "b9127548",
   "metadata": {
    "execution": {
     "iopub.execute_input": "2022-04-29T19:03:03.185057Z",
     "iopub.status.busy": "2022-04-29T19:03:03.184215Z",
     "iopub.status.idle": "2022-04-29T19:03:03.198937Z",
     "shell.execute_reply": "2022-04-29T19:03:03.197861Z"
    },
    "papermill": {
     "duration": 0.045973,
     "end_time": "2022-04-29T19:03:03.200466",
     "exception": false,
     "start_time": "2022-04-29T19:03:03.154493",
     "status": "completed"
    },
    "tags": []
   },
   "outputs": [
    {
     "data": {
      "text/html": [
       "<div>\n",
       "<style scoped>\n",
       "    .dataframe tbody tr th:only-of-type {\n",
       "        vertical-align: middle;\n",
       "    }\n",
       "\n",
       "    .dataframe tbody tr th {\n",
       "        vertical-align: top;\n",
       "    }\n",
       "\n",
       "    .dataframe thead th {\n",
       "        text-align: right;\n",
       "    }\n",
       "</style>\n",
       "<table border=\"1\" class=\"dataframe\">\n",
       "  <thead>\n",
       "    <tr style=\"text-align: right;\">\n",
       "      <th></th>\n",
       "      <th>id</th>\n",
       "      <th>target</th>\n",
       "    </tr>\n",
       "  </thead>\n",
       "  <tbody>\n",
       "    <tr>\n",
       "      <th>0</th>\n",
       "      <td>0</td>\n",
       "      <td>1</td>\n",
       "    </tr>\n",
       "    <tr>\n",
       "      <th>1</th>\n",
       "      <td>2</td>\n",
       "      <td>0</td>\n",
       "    </tr>\n",
       "    <tr>\n",
       "      <th>2</th>\n",
       "      <td>3</td>\n",
       "      <td>1</td>\n",
       "    </tr>\n",
       "    <tr>\n",
       "      <th>3</th>\n",
       "      <td>9</td>\n",
       "      <td>1</td>\n",
       "    </tr>\n",
       "    <tr>\n",
       "      <th>4</th>\n",
       "      <td>11</td>\n",
       "      <td>1</td>\n",
       "    </tr>\n",
       "    <tr>\n",
       "      <th>...</th>\n",
       "      <td>...</td>\n",
       "      <td>...</td>\n",
       "    </tr>\n",
       "    <tr>\n",
       "      <th>3258</th>\n",
       "      <td>10861</td>\n",
       "      <td>1</td>\n",
       "    </tr>\n",
       "    <tr>\n",
       "      <th>3259</th>\n",
       "      <td>10865</td>\n",
       "      <td>1</td>\n",
       "    </tr>\n",
       "    <tr>\n",
       "      <th>3260</th>\n",
       "      <td>10868</td>\n",
       "      <td>1</td>\n",
       "    </tr>\n",
       "    <tr>\n",
       "      <th>3261</th>\n",
       "      <td>10874</td>\n",
       "      <td>1</td>\n",
       "    </tr>\n",
       "    <tr>\n",
       "      <th>3262</th>\n",
       "      <td>10875</td>\n",
       "      <td>1</td>\n",
       "    </tr>\n",
       "  </tbody>\n",
       "</table>\n",
       "<p>3263 rows × 2 columns</p>\n",
       "</div>"
      ],
      "text/plain": [
       "         id  target\n",
       "0         0       1\n",
       "1         2       0\n",
       "2         3       1\n",
       "3         9       1\n",
       "4        11       1\n",
       "...     ...     ...\n",
       "3258  10861       1\n",
       "3259  10865       1\n",
       "3260  10868       1\n",
       "3261  10874       1\n",
       "3262  10875       1\n",
       "\n",
       "[3263 rows x 2 columns]"
      ]
     },
     "execution_count": 30,
     "metadata": {},
     "output_type": "execute_result"
    }
   ],
   "source": [
    "r =pd.read_csv(\"submission.csv\")\n",
    "r"
   ]
  },
  {
   "cell_type": "code",
   "execution_count": null,
   "id": "002706d5",
   "metadata": {
    "papermill": {
     "duration": 0.02852,
     "end_time": "2022-04-29T19:03:03.257911",
     "exception": false,
     "start_time": "2022-04-29T19:03:03.229391",
     "status": "completed"
    },
    "tags": []
   },
   "outputs": [],
   "source": []
  }
 ],
 "metadata": {
  "kernelspec": {
   "display_name": "Python 3",
   "language": "python",
   "name": "python3"
  },
  "language_info": {
   "codemirror_mode": {
    "name": "ipython",
    "version": 3
   },
   "file_extension": ".py",
   "mimetype": "text/x-python",
   "name": "python",
   "nbconvert_exporter": "python",
   "pygments_lexer": "ipython3",
   "version": "3.7.12"
  },
  "papermill": {
   "default_parameters": {},
   "duration": 17.92542,
   "end_time": "2022-04-29T19:03:04.207589",
   "environment_variables": {},
   "exception": null,
   "input_path": "__notebook__.ipynb",
   "output_path": "__notebook__.ipynb",
   "parameters": {},
   "start_time": "2022-04-29T19:02:46.282169",
   "version": "2.3.4"
  }
 },
 "nbformat": 4,
 "nbformat_minor": 5
}
